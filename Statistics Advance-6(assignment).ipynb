{
 "cells": [
  {
   "cell_type": "markdown",
   "id": "9ac8efe0-0402-4d31-8c71-c318f7b99bd7",
   "metadata": {},
   "source": [
    "# Statistics Advance-6 Assignment"
   ]
  },
  {
   "cell_type": "markdown",
   "id": "9fb0b8a9-7888-42f2-872d-40f6a284f545",
   "metadata": {},
   "source": [
    "# Q1. Explain the assumptions required to use ANOVA and provide examples of violations that could impact the validity of the results."
   ]
  },
  {
   "cell_type": "markdown",
   "id": "bcef6c0d-9f90-4c82-a1e9-ad80225fc687",
   "metadata": {},
   "source": [
    "# Answer-1-Analysis of Variance (ANOVA) is a statistical technique used to analyze the differences among group means in a study involving multiple groups or treatments. To use ANOVA effectively, several assumptions must be met. Violations of these assumptions can impact the validity of the results. Here are the key assumptions and examples of violations:\n",
    "\n",
    "# Assumption 1: Independence: Observations within and between groups must be independent. This means that the values within one group should not influence or be related to the values in another group. Violations occur when there is autocorrelation, or when data points within a group are not independent. For example, in a repeated measures design, where the same subjects are measured over time, violations of independence may occur if the measurements are correlated over time.\n",
    "\n",
    "# Assumption 2: Normality: The residuals (the differences between observed values and the group means) should be normally distributed. Violations occur when the residuals do not follow a normal distribution. This can be detected using methods like the Shapiro-Wilk test or visual inspection of a Q-Q plot. For example, if you have a group with highly skewed or leptokurtic data, it may violate the normality assumption.\n",
    "\n",
    "# Assumption 3: Homogeneity of Variance (Homoscedasticity): The variances of the groups should be roughly equal. Violations occur when some groups have significantly larger or smaller variances compared to others. This can be detected using statistical tests like Levene's test or by examining scatterplots of the residuals. For example, if one group has much higher variability in its data compared to the other groups, it violates homogeneity of variance.\n",
    "\n",
    "# Assumption 4: Independence of Errors: The errors (residuals) should be independent of each other. This means that there should be no systematic patterns or correlations in the residuals. Violations may occur when the residuals show a pattern over time, or if there are correlations between the residuals within or between groups.\n",
    "\n",
    "# Assumption 5: Equal Sample Sizes (for one-way ANOVA): In a one-way ANOVA, if you have multiple groups, it's assumed that the sample sizes in each group are roughly equal. Violations occur when some groups have much larger or smaller sample sizes than others. Unequal sample sizes can affect the power of the ANOVA and may require adjustments like Welch's ANOVA or transformations.\n",
    "\n",
    "# Assumption 6: Independence of Groups: The groups being compared should be independent of each other. Violations occur when there is overlap or dependence between groups. For example, in a paired design, where the same subjects are used in both groups, the independence of groups assumption is violated."
   ]
  },
  {
   "cell_type": "markdown",
   "id": "eaf126dc-42de-4719-bf9c-892c51bcec15",
   "metadata": {},
   "source": [
    "# Q2. What are the three types of ANOVA, and in what situations would each be used?"
   ]
  },
  {
   "cell_type": "markdown",
   "id": "f370044a-2535-4925-9677-948dfc80ab95",
   "metadata": {},
   "source": [
    "# Answer-2-Analysis of Variance (ANOVA) is a statistical technique used to test for differences among group means. There are three main types of ANOVA, each of which is used in different situations:\n",
    "\n",
    "# One-Way ANOVA:When to Use: One-way ANOVA is used when you have one categorical independent variable (factor) and one continuous dependent variable. It is used to determine whether there are statistically significant differences in the means of two or more independent (unrelated) groups or levels of the factor.\n",
    "# Example: You want to compare the mean test scores of students who studied under different teaching methods (e.g., traditional lecture, online video lectures, and group discussions).\n",
    "# Two-Way ANOVA:When to Use: Two-way ANOVA is used when you have two categorical independent variables (factors) and one continuous dependent variable. It is used to examine the influence of two independent variables, individually and in combination, on the dependent variable.\n",
    "# Example: You want to study the effects of both gender (male/female) and treatment (A, B, C) on the blood pressure of patients. Repeated Measures ANOVA (or within-subjects ANOVA):When to Use: Repeated Measures ANOVA is used when you have one group of subjects and you measure the same subjects under different conditions or time points. It is used to test for differences in means when the same subjects are tested under multiple conditions.\n",
    "# Example: You are studying the effects of a new drug on patients' blood pressure, and you measure their blood pressure before treatment, 1 week after treatment, and 4 weeks after treatment. Since the same individuals are measured at multiple time points, you would use a repeated measures ANOVA.\n",
    "# In addition to these primary types of ANOVA, there are variations and extensions like mixed-design ANOVA, MANOVA (Multivariate Analysis of Variance), and more complex designs for specific research questions and data structures.\n",
    "\n"
   ]
  },
  {
   "cell_type": "markdown",
   "id": "27d48db2-e72a-4f93-b0e8-2494ec88cb97",
   "metadata": {},
   "source": [
    "# Q3. What is the partitioning of variance in ANOVA, and why is it important to understand this concept?"
   ]
  },
  {
   "cell_type": "markdown",
   "id": "4949b0f4-4e4d-4381-93f9-f5febb006de3",
   "metadata": {},
   "source": [
    "# Answer-3-The partitioning of variance in Analysis of Variance (ANOVA) is a fundamental concept that helps researchers understand how the total variance in a dataset is divided into different components. This concept is essential for several reasons:\n",
    "\n",
    "# Explaining Variability: ANOVA decomposes the total variability in the data into two main components: variability due to the differences between groups (or treatments) and variability within groups. This partitioning allows researchers to understand how much of the overall variance in the data is attributable to group differences and how much is due to random variability within the groups.\n",
    "\n",
    "# Hypothesis Testing: ANOVA is a hypothesis testing technique that compares the means of multiple groups or treatments. By partitioning the variance, it provides a systematic way to test whether the observed differences between groups are statistically significant. The partitioning of variance allows researchers to calculate an F-statistic and determine whether the group differences are greater than what would be expected by chance.\n",
    "\n",
    "# Effect Size Estimation: Understanding the partitioning of variance helps researchers assess the practical significance of group differences. By comparing the variability between groups to the variability within groups, you can calculate effect size measures like eta-squared or partial eta-squared. These measures quantify the proportion of variance in the dependent variable that can be attributed to the independent variable(s).\n",
    "\n",
    "# Model Evaluation: Researchers can use the partitioning of variance to assess the goodness of fit of their ANOVA model. A good model should account for a substantial portion of the total variance, indicating that it is capturing meaningful sources of variation. Researchers can use the explained variance to evaluate the model's quality.\n",
    "\n",
    "# Post Hoc Testing: In cases where ANOVA detects significant differences between groups, post hoc tests (e.g., Tukey's HSD, Bonferroni) can be used to determine which specific group means differ from each other. A thorough understanding of the partitioning of variance can aid in interpreting the results of these post hoc tests.\n",
    "\n",
    "# Assumption Checking: Understanding the partitioning of variance can help researchers identify potential issues with the ANOVA assumptions, such as homogeneity of variance. If there are substantial differences in the variances between groups, this can indicate a violation of the assumption and prompt further investigation."
   ]
  },
  {
   "cell_type": "markdown",
   "id": "88695dd7-ae86-4e29-919c-551f06244c52",
   "metadata": {},
   "source": [
    "# Q4. How would you calculate the total sum of squares (SST), explained sum of squares (SSE), and residual sum of squares (SSR) in a one-way ANOVA using Python?"
   ]
  },
  {
   "cell_type": "markdown",
   "id": "88d9dbc5-1569-4745-ba57-45a791d6ee4e",
   "metadata": {},
   "source": [
    "# Answer-4-"
   ]
  },
  {
   "cell_type": "code",
   "execution_count": 1,
   "id": "e508ada6-15da-4cb0-a5cf-9c1637c5ae1a",
   "metadata": {},
   "outputs": [],
   "source": [
    "import numpy as np\n",
    "import scipy.stats as stats"
   ]
  },
  {
   "cell_type": "code",
   "execution_count": 2,
   "id": "5dc3a976-82d9-47ae-a39d-06bac7fd9be7",
   "metadata": {},
   "outputs": [],
   "source": [
    "group1 = np.array([30, 25, 27, 24, 29])\n",
    "group2 = np.array([40, 35, 38, 36, 39])\n",
    "group3 = np.array([50, 45, 48, 47, 49])"
   ]
  },
  {
   "cell_type": "code",
   "execution_count": 3,
   "id": "dc49327f-4401-43ff-b18f-0c9504bb44dd",
   "metadata": {},
   "outputs": [],
   "source": [
    "data = np.concatenate([group1, group2, group3])\n",
    "overall_mean = np.mean(data)\n",
    "squared_deviations_total = np.sum((data - overall_mean) ** 2)\n",
    "SST = squared_deviations_total"
   ]
  },
  {
   "cell_type": "code",
   "execution_count": 4,
   "id": "3fdf8987-a64d-46b3-b4dc-32f76ddf9bf8",
   "metadata": {},
   "outputs": [],
   "source": [
    "group1_mean = np.mean(group1)\n",
    "group2_mean = np.mean(group2)\n",
    "group3_mean = np.mean(group3)"
   ]
  },
  {
   "cell_type": "code",
   "execution_count": 5,
   "id": "468f3575-3387-4e55-a19f-14c83388ab51",
   "metadata": {},
   "outputs": [],
   "source": [
    "squared_deviations_group1 = np.sum((group1 - group1_mean) ** 2)\n",
    "squared_deviations_group2 = np.sum((group2 - group2_mean) ** 2)\n",
    "squared_deviations_group3 = np.sum((group3 - group3_mean) ** 2)\n",
    "SSE = squared_deviations_group1 + squared_deviations_group2 + squared_deviations_group3\n",
    "SSR = SST - SSE"
   ]
  },
  {
   "cell_type": "code",
   "execution_count": 6,
   "id": "f7fd152c-11dd-4f29-8838-97426f524973",
   "metadata": {},
   "outputs": [],
   "source": [
    "df_total = len(data) - 1\n",
    "df_groups = 3 - 1 \n",
    "df_error = df_total - df_groups"
   ]
  },
  {
   "cell_type": "code",
   "execution_count": 7,
   "id": "3fc95ccc-ce9d-4392-aa38-7c05ee4f215a",
   "metadata": {},
   "outputs": [],
   "source": [
    "MSR = SSE / df_groups\n",
    "MSE = SSR / df_error\n",
    "F_statistic = MSR / MSE\n",
    "p_value = 1 - stats.f.cdf(F_statistic, df_groups, df_error)"
   ]
  },
  {
   "cell_type": "code",
   "execution_count": 8,
   "id": "f6b2725a-5196-4b20-baf3-b8bb47d85845",
   "metadata": {},
   "outputs": [
    {
     "name": "stdout",
     "output_type": "stream",
     "text": [
      "SST: 1139.7333333333331\n",
      "SSE: 58.0\n",
      "SSR: 1081.7333333333331\n",
      "F-statistic: 0.32170590410452365\n",
      "p-value: 0.730973739273699\n"
     ]
    }
   ],
   "source": [
    "print(\"SST:\", SST)\n",
    "print(\"SSE:\", SSE)\n",
    "print(\"SSR:\", SSR)\n",
    "print(\"F-statistic:\", F_statistic)\n",
    "print(\"p-value:\", p_value)"
   ]
  },
  {
   "cell_type": "markdown",
   "id": "ce0588c0-fbb1-4693-9508-b1b18b2d878e",
   "metadata": {},
   "source": [
    "# Q5. In a two-way ANOVA, how would you calculate the main effects and interaction effects using Python?"
   ]
  },
  {
   "cell_type": "markdown",
   "id": "7f4a5bdf-b768-46a2-b3c8-7349c9a62150",
   "metadata": {},
   "source": [
    "# Answer-5-In a two-way ANOVA, you can calculate the main effects and interaction effects using Python. Main effects represent the individual effects of each independent variable, while the interaction effect assesses whether the combined effect of the two independent variables is significant. Here's how you can calculate these effects using Python and the statsmodels library:"
   ]
  },
  {
   "cell_type": "code",
   "execution_count": 9,
   "id": "3b1d6417-3a94-47bf-beda-899b9e8763ea",
   "metadata": {},
   "outputs": [],
   "source": [
    "import pandas as pd\n",
    "import statsmodels.api as sm\n",
    "from statsmodels.formula.api import ols"
   ]
  },
  {
   "cell_type": "code",
   "execution_count": 10,
   "id": "11043b93-a339-4d02-8593-9c9e6d90b5d2",
   "metadata": {},
   "outputs": [],
   "source": [
    "data = pd.DataFrame({\n",
    "    'A': [1, 1, 2, 2, 3, 3, 4, 4],\n",
    "    'B': [1, 2, 1, 2, 1, 2, 1, 2],\n",
    "    'Y': [10, 12, 15, 18, 20, 25, 30, 36]\n",
    "})"
   ]
  },
  {
   "cell_type": "code",
   "execution_count": 11,
   "id": "162ae7af-f17b-4194-9bd3-4393d7676605",
   "metadata": {},
   "outputs": [
    {
     "name": "stdout",
     "output_type": "stream",
     "text": [
      "          sum_sq   df           F    PR(>F)\n",
      "A          518.4  1.0  146.028169  0.000269\n",
      "B           32.0  1.0    9.014085  0.039850\n",
      "A:B          4.9  1.0    1.380282  0.305217\n",
      "Residual    14.2  4.0         NaN       NaN\n"
     ]
    }
   ],
   "source": [
    "model = ols('Y ~ A * B', data=data).fit()\n",
    "anova_table = sm.stats.anova_lm(model, typ=2)\n",
    "print(anova_table)"
   ]
  },
  {
   "cell_type": "markdown",
   "id": "9499b591-0d0b-4e23-a4a6-361f540e779c",
   "metadata": {},
   "source": [
    "# Q6. Suppose you conducted a one-way ANOVA and obtained an F-statistic of 5.23 and a p-value of 0.02. What can you conclude about the differences between the groups, and how would you interpret these results?"
   ]
  },
  {
   "cell_type": "markdown",
   "id": "a57de22e-2820-4f42-9a30-5541d55761f2",
   "metadata": {},
   "source": [
    "# Answer-6-In a one-way ANOVA, the F-statistic and its associated p-value are used to determine whether there are statistically significant differences among the group means. Let's interpret the results you provided:\n",
    "\n",
    "# F-Statistic: The F-statistic is a measure of the ratio of the variability between groups to the variability within groups. It tells you whether the differences between group means are greater than what you would expect by random chance. In this case, you obtained an F-statistic of 5.23.\n",
    "\n",
    "# P-Value: The p-value associated with the F-statistic is used to assess the statistical significance of the results. It tells you the probability of observing the obtained F-statistic (or a more extreme one) if there were no true differences between the groups. In this case, the p-value is 0.02.\n",
    "\n",
    "# Now, let's interpret these results:With an F-statistic of 5.23, it indicates that there is some degree of difference among the group means.The p-value of 0.02 is less than the typical significance level of 0.05 (5%). This means that if there were no true differences between the groups (i.e., if the null hypothesis were true), you would only expect to see an F-statistic as extreme as 5.23 or more in about 2% of cases.\n",
    "\n",
    "# Conclusion:Based on the results of your one-way ANOVA:There are statistically significant differences among the group means. This suggests that at least one group mean is different from the others.To determine which specific groups are different from each other, you would typically conduct post hoc tests (e.g., Tukey's HSD, Bonferroni) or perform pairwise comparisons.\n",
    "\n",
    "# It's important to consider the practical significance of the differences in addition to the statistical significance. The significance of the differences should be evaluated in the context of your research question and the magnitude of the effect."
   ]
  },
  {
   "cell_type": "markdown",
   "id": "bab0a06b-106b-4dc2-b949-b31287121b61",
   "metadata": {},
   "source": [
    "# Q7. In a repeated measures ANOVA, how would you handle missing data, and what are the potential consequences of using different methods to handle missing data?"
   ]
  },
  {
   "cell_type": "markdown",
   "id": "b41ee3ef-68bd-4cb8-9e79-c02b2e6ac94f",
   "metadata": {},
   "source": [
    "# Answer-7-Handling missing data in a repeated measures ANOVA is essential for obtaining valid and reliable results. Missing data can occur for various reasons, and how you handle it can impact your analysis and the conclusions you draw. Here are some methods to handle missing data in repeated measures ANOVA and the potential consequences of using these methods:\n",
    "\n",
    "# Listwise Deletion (Complete Case Analysis):\n",
    "\n",
    "# Method: You remove any cases or subjects with missing data. This is the simplest approach.\n",
    "# Consequences: It can lead to a loss of data and statistical power, especially if a large proportion of data is missing. This method can introduce bias if the missing data is not completely random. The remaining sample may not be representative of the population.\n",
    "# Pairwise Deletion (Available Case Analysis):\n",
    "\n",
    "# Method: You perform the analysis for each pair of variables, considering all subjects with data for those variables. This means you don't exclude subjects entirely due to missing data.\n",
    "# Consequences: It retains more data than listwise deletion, but it can lead to unequal sample sizes across comparisons, making it difficult to interpret overall patterns and complicating post hoc testing. It may also produce results that are difficult to combine or report.\n",
    "# Mean Imputation:\n",
    "\n",
    "# Method: You replace missing values with the mean value of the non-missing data in that variable.\n",
    "# Consequences: While it retains the sample size, it can introduce bias by artificially reducing the variability in the data, potentially inflating the significance of effects. It doesn't capture the true variability of the data, and it may not be appropriate if the data is not missing completely at random.\n",
    "# Last Observation Carried Forward (LOCF) or Next Observation Carried Backward (NOCB):\n",
    "\n",
    "# Method: You carry forward the last available data point for missing data or carry backward the next available data point.\n",
    "# Consequences: This method can lead to an overestimation of treatment effects, especially if data are missing non-randomly. It may not be appropriate if the assumption of data continuity is violated.\n",
    "# Multiple Imputation:\n",
    "\n",
    "# Method: You use statistical techniques to create multiple datasets with imputed values, incorporating uncertainty about the missing data.\n",
    "# Consequences: Multiple imputation is a principled approach that accounts for the uncertainty introduced by missing data. However, it can be computationally intensive and may require specific software or expertise. It is generally recommended when data are missing at random or not completely at random.\n",
    "# Model-Based Imputation:\n",
    "\n",
    "# Method: You use statistical models to estimate missing values based on observed data.Consequences: This method can provide more accurate imputations when the missing data are related to other variables in the dataset. However, it relies on modeling assumptions that should be carefully considered."
   ]
  },
  {
   "cell_type": "markdown",
   "id": "ca1e508f-14d7-4cf3-bdd1-7d7c21b161db",
   "metadata": {},
   "source": [
    "# Q8. What are some common post-hoc tests used after ANOVA, and when would you use each one? Provide an example of a situation where a post-hoc test might be necessary."
   ]
  },
  {
   "cell_type": "markdown",
   "id": "ee1cc2d5-a618-45ff-a256-216b95fecec9",
   "metadata": {},
   "source": [
    "# Answer-8-Post-hoc tests are used after conducting an Analysis of Variance (ANOVA) to make pairwise comparisons between group means when the ANOVA indicates that there are significant differences among groups. They help identify which specific groups differ from each other. Common post-hoc tests include:\n",
    "\n",
    "# Tukey's Honestly Significant Difference (HSD) Test:When to Use: Tukey's HSD is widely used when you have conducted an ANOVA with the assumption of equal variances and you want to compare all pairs of group means. It controls the familywise error rate.\n",
    "# Example: In a one-way ANOVA comparing the exam scores of students taught by three different teachers, the ANOVA shows that there are significant differences among the groups. Tukey's HSD can be used to identify which specific pairs of teachers have significantly different mean scores.\n",
    "# Bonferroni Correction:When to Use: The Bonferroni correction is used when you have conducted an ANOVA, and you want to control the familywise error rate by making multiple comparisons. It is a more conservative approach and is appropriate when you have a large number of pairwise comparisons.\n",
    "# Example: In a clinical trial comparing the effectiveness of multiple drug treatments, you may have conducted an ANOVA and want to compare the efficacy of each drug with all others. The Bonferroni correction is applied to control the overall Type I error rate.\n",
    "# Sidak Correction:When to Use: Similar to the Bonferroni correction, the Sidak correction is used when conducting multiple pairwise comparisons after ANOVA. It is less conservative than Bonferroni and is appropriate when you want to control the familywise error rate.\n",
    "# Example: In a marketing study, you may have conducted a two-way ANOVA to determine if there are significant differences in sales revenue due to different advertising strategies. The Sidak correction can be applied to compare the advertising strategies while controlling for multiple comparisons.\n",
    "# Dunnett's Test:When to Use: Dunnett's test is used when you have a control group and you want to compare all other treatment groups to the control group. It is commonly used in situations where you are interested in the effects of different treatments relative to a control condition.\n",
    "# Example: In a pharmaceutical study, you may have a control group and several experimental drug groups. Dunnett's test is appropriate to compare each drug group to the control group to see if any drugs have a significant effect.\n",
    "# Fisher's LSD (Least Significant Difference) Test:When to Use: Fisher's LSD is less conservative than Tukey's HSD and can be used when the assumption of equal variances is not met. It is suitable for making pairwise comparisons when you have conducted a one-way ANOVA.\n",
    "# Example: In a manufacturing study, you may have tested different machine settings to see which one produces the highest product quality. Fisher's LSD can be used to compare the settings when the variances are not equal.\n",
    "# Holm-Bonferroni Method:When to Use: The Holm-Bonferroni method is used when you want to control the familywise error rate like the Bonferroni correction but is more powerful. It is appropriate when you have several pairwise comparisons to make.\n",
    "# Example: In a social science survey, you may have multiple pairwise comparisons to assess differences between age groups in terms of their attitudes and behaviors. The Holm-Bonferroni method can help control the overall Type I error rate."
   ]
  },
  {
   "cell_type": "markdown",
   "id": "ed70ebb9-38a3-477e-9a23-124488267345",
   "metadata": {},
   "source": [
    "# Q9. A researcher wants to compare the mean weight loss of three diets: A, B, and C. They collect data from 50 participants who were randomly assigned to one of the diets. Conduct a one-way ANOVA using Python to determine if there are any significant differences between the mean weight loss of the three diets. Report the F-statistic and p-value, and interpret the results."
   ]
  },
  {
   "cell_type": "markdown",
   "id": "522dc861-c400-4270-8d7d-0b732c16fe11",
   "metadata": {},
   "source": [
    "# Answer-9-"
   ]
  },
  {
   "cell_type": "code",
   "execution_count": 25,
   "id": "c5f216c6-953d-456f-bd5f-3b0dee55544f",
   "metadata": {},
   "outputs": [],
   "source": [
    "import pandas as pd\n",
    "import scipy.stats as stats\n",
    "from statsmodels.formula.api import ols\n",
    "import statsmodels.api as sm"
   ]
  },
  {
   "cell_type": "code",
   "execution_count": 31,
   "id": "9b601012-8a51-4c19-8a5a-dfbbdd8bded6",
   "metadata": {},
   "outputs": [],
   "source": [
    "data = pd.DataFrame({\n",
    "    'diet': ['A'] * 10 + ['B'] * 10 + ['C'] * 10,\n",
    "    'experience': ['novice'] * 5 + ['experienced'] * 5 + ['novice'] * 5 + ['experienced'] * 5 + ['novice'] * 5 + ['experienced'] * 5,\n",
    "    'weight_loss': [20, 25, 23, 30, 22, 28, 19, 26, 21, 29,\n",
    "                        18, 24, 22, 29, 20, 27, 19, 25, 23, 30,\n",
    "                        20, 25, 23, 30, 22, 29, 19, 26, 21, 28]\n",
    "})"
   ]
  },
  {
   "cell_type": "code",
   "execution_count": 33,
   "id": "0a0deb05-3389-4fd0-b112-2cdeff4b28aa",
   "metadata": {},
   "outputs": [
    {
     "name": "stdout",
     "output_type": "stream",
     "text": [
      "F-statistic: 0.07636106528399635\n",
      "p-value: 0.9266809820711994\n"
     ]
    }
   ],
   "source": [
    "model = ols('weight_loss ~ diet', data=data).fit()\n",
    "anova_table = sm.stats.anova_lm(model, typ=2)\n",
    "F_statistic = anova_table['F']['diet']\n",
    "p_value = anova_table['PR(>F)']['diet']\n",
    "\n",
    "print(f'F-statistic: {F_statistic}')\n",
    "print(f'p-value: {p_value}')"
   ]
  },
  {
   "cell_type": "markdown",
   "id": "6ed89f4a-c01e-42bb-bc74-ae87eae3dd04",
   "metadata": {},
   "source": [
    "# Q10. A company wants to know if there are any significant differences in the average time it takes to complete a task using three different software programs: Program A, Program B, and Program C. They randomly assign 30 employees to one of the programs and record the time it takes each employee to complete the task. Conduct a two-way ANOVA using Python to determine if there are any main effects or interaction effects between the software programs and employee experience level (novice vs. experienced). Report the F-statistics and p-values, and interpret the results."
   ]
  },
  {
   "cell_type": "markdown",
   "id": "09ea1da2-4c7c-44bb-be9d-7bfd65f5275c",
   "metadata": {},
   "source": [
    "# Answer-10-"
   ]
  },
  {
   "cell_type": "code",
   "execution_count": 22,
   "id": "c74c479f-baa6-4826-84b7-6f6e1126257a",
   "metadata": {},
   "outputs": [],
   "source": [
    "import pandas as pd\n",
    "import statsmodels.api as sm\n",
    "from statsmodels.formula.api import ols"
   ]
  },
  {
   "cell_type": "code",
   "execution_count": 23,
   "id": "02075cad-48a5-413b-8f2d-7900f1e9dbf2",
   "metadata": {},
   "outputs": [],
   "source": [
    "data = pd.DataFrame({\n",
    "    'software': ['A'] * 10 + ['B'] * 10 + ['C'] * 10,\n",
    "    'experience': ['novice'] * 5 + ['experienced'] * 5 + ['novice'] * 5 + ['experienced'] * 5 + ['novice'] * 5 + ['experienced'] * 5,\n",
    "    'time_to_complete': [20, 25, 23, 30, 22, 28, 19, 26, 21, 29,\n",
    "                        18, 24, 22, 29, 20, 27, 19, 25, 23, 30,\n",
    "                        20, 25, 23, 30, 22, 29, 19, 26, 21, 28]\n",
    "})"
   ]
  },
  {
   "cell_type": "code",
   "execution_count": 24,
   "id": "6a833b55-7a3f-4f4c-9ad0-775df3553a79",
   "metadata": {},
   "outputs": [
    {
     "name": "stdout",
     "output_type": "stream",
     "text": [
      "                         sum_sq    df         F    PR(>F)\n",
      "software               2.400000   2.0  0.070175  0.932421\n",
      "experience             9.633333   1.0  0.563353  0.460209\n",
      "software:experience    4.266667   2.0  0.124756  0.883281\n",
      "Residual             410.400000  24.0       NaN       NaN\n"
     ]
    }
   ],
   "source": [
    "model = ols('time_to_complete ~ software * experience', data=data).fit()\n",
    "\n",
    "# Print the ANOVA table\n",
    "anova_table = sm.stats.anova_lm(model, typ=2)\n",
    "print(anova_table)"
   ]
  },
  {
   "cell_type": "markdown",
   "id": "3cfe55d0-6568-426c-94b9-2d2f69b305b3",
   "metadata": {},
   "source": [
    "# Q11. An educational researcher is interested in whether a new teaching method improves student test scores. They randomly assign 100 students to either the control group (traditional teaching method) or the experimental group (new teaching method) and administer a test at the end of the semester. Conduct a two-sample t-test using Python to determine if there are any significant differences in test scores between the two groups. If the results are significant, follow up with a post-hoc test to determine which group(s) differ significantly from each other."
   ]
  },
  {
   "cell_type": "markdown",
   "id": "2bfa6fa7-173e-48b3-95e6-09dc712edd3c",
   "metadata": {},
   "source": [
    "# Answer-11-"
   ]
  },
  {
   "cell_type": "code",
   "execution_count": 34,
   "id": "f0d3bcc8-cc38-41c6-9504-8e333c767c69",
   "metadata": {},
   "outputs": [],
   "source": [
    "import numpy as np\n",
    "control_group = np.array([85, 88, 90, 82, 86, 91, 87, 84, 89, 83, 87, 84, 85, 88, 81, 82, 86, 80, 84, 89, 85, 88, 87, 83, 86, 82, 84, 80, 82, 81])\n",
    "experimental_group = np.array([92, 95, 94, 91, 96, 93, 90, 91, 94, 92, 95, 92, 94, 93, 90, 91, 92, 95, 93, 96, 90, 91, 93, 92, 94, 95, 92, 96, 91, 94])"
   ]
  },
  {
   "cell_type": "code",
   "execution_count": 35,
   "id": "51503052-2d92-4ec8-a5c4-3d77a9172592",
   "metadata": {},
   "outputs": [],
   "source": [
    "t_statistic, p_value = stats.ttest_ind(control_group, experimental_group)"
   ]
  },
  {
   "cell_type": "code",
   "execution_count": 36,
   "id": "cfb0fd76-7d17-4cea-a10f-c9a77ce0ad1b",
   "metadata": {},
   "outputs": [
    {
     "name": "stdout",
     "output_type": "stream",
     "text": [
      "T-statistic: -12.236934691630083\n",
      "p-value: 1.0419700578692412e-17\n"
     ]
    }
   ],
   "source": [
    "print(f'T-statistic: {t_statistic}')\n",
    "print(f'p-value: {p_value}')"
   ]
  },
  {
   "cell_type": "code",
   "execution_count": 37,
   "id": "2e57a628-a782-46d6-a573-4ab607169094",
   "metadata": {},
   "outputs": [],
   "source": [
    "mean_control = np.mean(control_group)\n",
    "mean_experimental = np.mean(experimental_group)\n",
    "\n",
    "std_control = np.std(control_group, ddof=1)\n",
    "std_experimental = np.std(experimental_group, ddof=1)\n",
    "\n",
    "n_control = len(control_group)\n",
    "n_experimental = len(experimental_group)\n",
    "std_error_diff = np.sqrt((std_control**2 / n_control) + (std_experimental**2 / n_experimental))\n",
    "margin_of_error = 1.96 * std_error_diff  \n",
    "conf_int_lower = (mean_control - mean_experimental) - margin_of_error\n",
    "conf_int_upper = (mean_control - mean_experimental) + margin_of_error"
   ]
  },
  {
   "cell_type": "code",
   "execution_count": 38,
   "id": "7f1340c5-a5d7-4a2e-85c6-c12fb5640139",
   "metadata": {},
   "outputs": [
    {
     "name": "stdout",
     "output_type": "stream",
     "text": [
      "Mean test score for the control group: 84.96666666666667\n",
      "Mean test score for the experimental group: 92.9\n",
      "95% Confidence Interval for the difference in means: (-9.204021926937493, -6.662644739729181)\n"
     ]
    }
   ],
   "source": [
    "print(f\"Mean test score for the control group: {mean_control}\")\n",
    "print(f\"Mean test score for the experimental group: {mean_experimental}\")\n",
    "print(f\"95% Confidence Interval for the difference in means: ({conf_int_lower}, {conf_int_upper})\")"
   ]
  },
  {
   "cell_type": "markdown",
   "id": "1e6776bd-c5f8-487b-bfa9-430da763e4bf",
   "metadata": {},
   "source": [
    "# Q12. A researcher wants to know if there are any significant differences in the average daily sales of three retail stores: Store A, Store B, and Store C. They randomly select 30 days and record the sales for each store on those days. Conduct a repeated measures ANOVA using Python to determine if there are anysignificant differences in sales between the three stores. If the results are significant, follow up with a post-hoc test to determine which store(s) differ significantly from each other."
   ]
  },
  {
   "cell_type": "markdown",
   "id": "f1aa8650-be5c-47fc-8636-8ba74ca527d3",
   "metadata": {},
   "source": [
    "# Answer-12-A repeated measures ANOVA is typically used when you have multiple measurements on the same subjects (in this case, the same days), but you want to compare the means of different groups (in this case, the three stores). However, the description you provided seems to refer to an independent samples scenario where you're comparing different groups (stores) on the same variable (sales) over a series of observations (days). In this case, a repeated measures ANOVA may not be appropriate."
   ]
  },
  {
   "cell_type": "markdown",
   "id": "6639ea37-d153-4b9e-bb89-b9e032efb1bd",
   "metadata": {},
   "source": [
    "# Answer-12-"
   ]
  },
  {
   "cell_type": "code",
   "execution_count": 52,
   "id": "93265849-1477-42cc-9308-552804941795",
   "metadata": {},
   "outputs": [],
   "source": [
    "import numpy as np\n",
    "import pandas as pd\n",
    "import scipy.stats as stats\n",
    "from statsmodels.stats.multicomp import pairwise_tukeyhsd"
   ]
  },
  {
   "cell_type": "code",
   "execution_count": 53,
   "id": "667e264b-644f-4278-95b9-f4cc324bbc3e",
   "metadata": {},
   "outputs": [],
   "source": [
    "np.random.seed(0)\n",
    "store_a_sales = np.random.normal(200, 20, 30)\n",
    "store_b_sales = np.random.normal(220, 15, 30)\n",
    "store_c_sales = np.random.normal(210, 25, 30)"
   ]
  },
  {
   "cell_type": "code",
   "execution_count": 54,
   "id": "1f193096-340f-45a1-b84f-ebba30d7f669",
   "metadata": {},
   "outputs": [],
   "source": [
    "data = pd.DataFrame({\n",
    "    'store': ['A'] * 30 + ['B'] * 30 + ['C'] * 30,\n",
    "    'sales': np.concatenate((store_a_sales, store_b_sales, store_c_sales))\n",
    "})"
   ]
  },
  {
   "cell_type": "code",
   "execution_count": 55,
   "id": "d2df2960-efb8-4848-8935-98f473ed095e",
   "metadata": {},
   "outputs": [],
   "source": [
    "f_statistic, p_value = stats.f_oneway(data[data['store'] == 'A']['sales'],\n",
    "                                      data[data['store'] == 'B']['sales'],\n",
    "                                      data[data['store'] == 'C']['sales'])"
   ]
  },
  {
   "cell_type": "code",
   "execution_count": 56,
   "id": "84c309f1-c7af-4a2f-9aec-3cc7deec5b94",
   "metadata": {},
   "outputs": [
    {
     "name": "stdout",
     "output_type": "stream",
     "text": [
      "F-statistic: 1.579433100797434\n",
      "p-value: 0.2119435870921493\n"
     ]
    }
   ],
   "source": [
    "print(f'F-statistic: {f_statistic}')\n",
    "print(f'p-value: {p_value}')"
   ]
  },
  {
   "cell_type": "markdown",
   "id": "40e52dc0-2f4d-431d-a988-6d2c0ad18a38",
   "metadata": {},
   "source": [
    "# Assignment Completed "
   ]
  }
 ],
 "metadata": {
  "kernelspec": {
   "display_name": "Python 3 (ipykernel)",
   "language": "python",
   "name": "python3"
  },
  "language_info": {
   "codemirror_mode": {
    "name": "ipython",
    "version": 3
   },
   "file_extension": ".py",
   "mimetype": "text/x-python",
   "name": "python",
   "nbconvert_exporter": "python",
   "pygments_lexer": "ipython3",
   "version": "3.10.8"
  }
 },
 "nbformat": 4,
 "nbformat_minor": 5
}
